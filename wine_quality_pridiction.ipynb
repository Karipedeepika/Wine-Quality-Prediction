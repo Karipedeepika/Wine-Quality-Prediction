{
 "cells": [
  {
   "cell_type": "code",
   "execution_count": 1,
   "id": "c6a26be3",
   "metadata": {},
   "outputs": [
    {
     "ename": "ModuleNotFoundError",
     "evalue": "No module named 'torch'",
     "output_type": "error",
     "traceback": [
      "\u001b[1;31m---------------------------------------------------------------------------\u001b[0m",
      "\u001b[1;31mModuleNotFoundError\u001b[0m                       Traceback (most recent call last)",
      "\u001b[1;32m~\\AppData\\Local\\Temp/ipykernel_23124/4085164838.py\u001b[0m in \u001b[0;36m<module>\u001b[1;34m\u001b[0m\n\u001b[0;32m      1\u001b[0m \u001b[1;32mimport\u001b[0m \u001b[0mnumpy\u001b[0m \u001b[1;32mas\u001b[0m \u001b[0mnp\u001b[0m\u001b[1;33m\u001b[0m\u001b[1;33m\u001b[0m\u001b[0m\n\u001b[0;32m      2\u001b[0m \u001b[1;32mimport\u001b[0m \u001b[0mpandas\u001b[0m \u001b[1;32mas\u001b[0m \u001b[0mpd\u001b[0m\u001b[1;33m\u001b[0m\u001b[1;33m\u001b[0m\u001b[0m\n\u001b[1;32m----> 3\u001b[1;33m \u001b[1;32mimport\u001b[0m \u001b[0mtorch\u001b[0m\u001b[1;33m\u001b[0m\u001b[1;33m\u001b[0m\u001b[0m\n\u001b[0m\u001b[0;32m      4\u001b[0m \u001b[1;32mimport\u001b[0m \u001b[0mtorch\u001b[0m\u001b[1;33m.\u001b[0m\u001b[0mnn\u001b[0m \u001b[1;32mas\u001b[0m \u001b[0mnn\u001b[0m\u001b[1;33m\u001b[0m\u001b[1;33m\u001b[0m\u001b[0m\n\u001b[0;32m      5\u001b[0m \u001b[1;32mimport\u001b[0m \u001b[0mseaborn\u001b[0m \u001b[1;32mas\u001b[0m \u001b[0msns\u001b[0m\u001b[1;33m\u001b[0m\u001b[1;33m\u001b[0m\u001b[0m\n",
      "\u001b[1;31mModuleNotFoundError\u001b[0m: No module named 'torch'"
     ]
    }
   ],
   "source": [
    "import numpy as np\n",
    "import pandas as pd\n",
    "import torch\n",
    "import torch.nn as nn\n",
    "import seaborn as sns\n",
    "import matplotlib.pyplot as plt\n",
    "import torch.nn.functional as F\n",
    "from torchvision.datasets.utils import download_url\n",
    "from torch.utils.data import DataLoader, TensorDataset, random_split"
   ]
  },
  {
   "cell_type": "code",
   "execution_count": 2,
   "id": "a7791fad",
   "metadata": {},
   "outputs": [
    {
     "name": "stdout",
     "output_type": "stream",
     "text": [
      "Collecting torch\n",
      "  Downloading torch-2.0.1-cp39-cp39-win_amd64.whl (172.4 MB)\n",
      "Requirement already satisfied: jinja2 in c:\\users\\deepika\\anaconda3\\lib\\site-packages (from torch) (2.11.3)\n",
      "Requirement already satisfied: sympy in c:\\users\\deepika\\anaconda3\\lib\\site-packages (from torch) (1.9)\n",
      "Requirement already satisfied: networkx in c:\\users\\deepika\\anaconda3\\lib\\site-packages (from torch) (2.6.3)\n",
      "Requirement already satisfied: filelock in c:\\users\\deepika\\anaconda3\\lib\\site-packages (from torch) (3.3.1)\n",
      "Requirement already satisfied: typing-extensions in c:\\users\\deepika\\anaconda3\\lib\\site-packages (from torch) (3.10.0.2)\n",
      "Requirement already satisfied: MarkupSafe>=0.23 in c:\\users\\deepika\\anaconda3\\lib\\site-packages (from jinja2->torch) (1.1.1)\n",
      "Requirement already satisfied: mpmath>=0.19 in c:\\users\\deepika\\anaconda3\\lib\\site-packages (from sympy->torch) (1.2.1)\n",
      "Installing collected packages: torch\n",
      "Successfully installed torch-2.0.1\n"
     ]
    }
   ],
   "source": [
    "!pip install torch"
   ]
  },
  {
   "cell_type": "code",
   "execution_count": 3,
   "id": "50bb83ad",
   "metadata": {},
   "outputs": [
    {
     "ename": "ModuleNotFoundError",
     "evalue": "No module named 'torchvision'",
     "output_type": "error",
     "traceback": [
      "\u001b[1;31m---------------------------------------------------------------------------\u001b[0m",
      "\u001b[1;31mModuleNotFoundError\u001b[0m                       Traceback (most recent call last)",
      "\u001b[1;32m~\\AppData\\Local\\Temp/ipykernel_23124/4085164838.py\u001b[0m in \u001b[0;36m<module>\u001b[1;34m\u001b[0m\n\u001b[0;32m      6\u001b[0m \u001b[1;32mimport\u001b[0m \u001b[0mmatplotlib\u001b[0m\u001b[1;33m.\u001b[0m\u001b[0mpyplot\u001b[0m \u001b[1;32mas\u001b[0m \u001b[0mplt\u001b[0m\u001b[1;33m\u001b[0m\u001b[1;33m\u001b[0m\u001b[0m\n\u001b[0;32m      7\u001b[0m \u001b[1;32mimport\u001b[0m \u001b[0mtorch\u001b[0m\u001b[1;33m.\u001b[0m\u001b[0mnn\u001b[0m\u001b[1;33m.\u001b[0m\u001b[0mfunctional\u001b[0m \u001b[1;32mas\u001b[0m \u001b[0mF\u001b[0m\u001b[1;33m\u001b[0m\u001b[1;33m\u001b[0m\u001b[0m\n\u001b[1;32m----> 8\u001b[1;33m \u001b[1;32mfrom\u001b[0m \u001b[0mtorchvision\u001b[0m\u001b[1;33m.\u001b[0m\u001b[0mdatasets\u001b[0m\u001b[1;33m.\u001b[0m\u001b[0mutils\u001b[0m \u001b[1;32mimport\u001b[0m \u001b[0mdownload_url\u001b[0m\u001b[1;33m\u001b[0m\u001b[1;33m\u001b[0m\u001b[0m\n\u001b[0m\u001b[0;32m      9\u001b[0m \u001b[1;32mfrom\u001b[0m \u001b[0mtorch\u001b[0m\u001b[1;33m.\u001b[0m\u001b[0mutils\u001b[0m\u001b[1;33m.\u001b[0m\u001b[0mdata\u001b[0m \u001b[1;32mimport\u001b[0m \u001b[0mDataLoader\u001b[0m\u001b[1;33m,\u001b[0m \u001b[0mTensorDataset\u001b[0m\u001b[1;33m,\u001b[0m \u001b[0mrandom_split\u001b[0m\u001b[1;33m\u001b[0m\u001b[1;33m\u001b[0m\u001b[0m\n",
      "\u001b[1;31mModuleNotFoundError\u001b[0m: No module named 'torchvision'"
     ]
    }
   ],
   "source": [
    "import numpy as np\n",
    "import pandas as pd\n",
    "import torch\n",
    "import torch.nn as nn\n",
    "import seaborn as sns\n",
    "import matplotlib.pyplot as plt\n",
    "import torch.nn.functional as F\n",
    "from torchvision.datasets.utils import download_url\n",
    "from torch.utils.data import DataLoader, TensorDataset, random_split"
   ]
  },
  {
   "cell_type": "code",
   "execution_count": 4,
   "id": "d5d60a63",
   "metadata": {},
   "outputs": [
    {
     "name": "stdout",
     "output_type": "stream",
     "text": [
      "Collecting torchvision\n",
      "  Downloading torchvision-0.15.2-cp39-cp39-win_amd64.whl (1.2 MB)\n",
      "Requirement already satisfied: numpy in c:\\users\\deepika\\anaconda3\\lib\\site-packages (from torchvision) (1.20.3)\n",
      "Requirement already satisfied: requests in c:\\users\\deepika\\anaconda3\\lib\\site-packages (from torchvision) (2.28.2)\n",
      "Requirement already satisfied: pillow!=8.3.*,>=5.3.0 in c:\\users\\deepika\\anaconda3\\lib\\site-packages (from torchvision) (8.4.0)\n",
      "Requirement already satisfied: torch==2.0.1 in c:\\users\\deepika\\anaconda3\\lib\\site-packages (from torchvision) (2.0.1)\n",
      "Requirement already satisfied: typing-extensions in c:\\users\\deepika\\anaconda3\\lib\\site-packages (from torch==2.0.1->torchvision) (3.10.0.2)\n",
      "Requirement already satisfied: filelock in c:\\users\\deepika\\anaconda3\\lib\\site-packages (from torch==2.0.1->torchvision) (3.3.1)\n",
      "Requirement already satisfied: jinja2 in c:\\users\\deepika\\anaconda3\\lib\\site-packages (from torch==2.0.1->torchvision) (2.11.3)\n",
      "Requirement already satisfied: sympy in c:\\users\\deepika\\anaconda3\\lib\\site-packages (from torch==2.0.1->torchvision) (1.9)\n",
      "Requirement already satisfied: networkx in c:\\users\\deepika\\anaconda3\\lib\\site-packages (from torch==2.0.1->torchvision) (2.6.3)\n",
      "Requirement already satisfied: MarkupSafe>=0.23 in c:\\users\\deepika\\anaconda3\\lib\\site-packages (from jinja2->torch==2.0.1->torchvision) (1.1.1)\n",
      "Requirement already satisfied: urllib3<1.27,>=1.21.1 in c:\\users\\deepika\\anaconda3\\lib\\site-packages (from requests->torchvision) (1.26.7)\n",
      "Requirement already satisfied: certifi>=2017.4.17 in c:\\users\\deepika\\anaconda3\\lib\\site-packages (from requests->torchvision) (2021.10.8)\n",
      "Requirement already satisfied: charset-normalizer<4,>=2 in c:\\users\\deepika\\anaconda3\\lib\\site-packages (from requests->torchvision) (2.0.4)\n",
      "Requirement already satisfied: idna<4,>=2.5 in c:\\users\\deepika\\anaconda3\\lib\\site-packages (from requests->torchvision) (2.10)\n",
      "Requirement already satisfied: mpmath>=0.19 in c:\\users\\deepika\\anaconda3\\lib\\site-packages (from sympy->torch==2.0.1->torchvision) (1.2.1)\n",
      "Installing collected packages: torchvision\n",
      "Successfully installed torchvision-0.15.2\n"
     ]
    }
   ],
   "source": [
    "!pip install torchvision"
   ]
  },
  {
   "cell_type": "code",
   "execution_count": 5,
   "id": "146a8c61",
   "metadata": {},
   "outputs": [],
   "source": [
    "import numpy as np\n",
    "import pandas as pd\n",
    "import torch\n",
    "import torch.nn as nn\n",
    "import seaborn as sns\n",
    "import matplotlib.pyplot as plt\n",
    "import torch.nn.functional as F\n",
    "from torchvision.datasets.utils import download_url\n",
    "from torch.utils.data import DataLoader, TensorDataset, random_split\n"
   ]
  },
  {
   "cell_type": "code",
   "execution_count": 6,
   "id": "eda18cdd",
   "metadata": {},
   "outputs": [
    {
     "data": {
      "text/html": [
       "<div>\n",
       "<style scoped>\n",
       "    .dataframe tbody tr th:only-of-type {\n",
       "        vertical-align: middle;\n",
       "    }\n",
       "\n",
       "    .dataframe tbody tr th {\n",
       "        vertical-align: top;\n",
       "    }\n",
       "\n",
       "    .dataframe thead th {\n",
       "        text-align: right;\n",
       "    }\n",
       "</style>\n",
       "<table border=\"1\" class=\"dataframe\">\n",
       "  <thead>\n",
       "    <tr style=\"text-align: right;\">\n",
       "      <th></th>\n",
       "      <th>fixed acidity</th>\n",
       "      <th>volatile acidity</th>\n",
       "      <th>citric acid</th>\n",
       "      <th>residual sugar</th>\n",
       "      <th>chlorides</th>\n",
       "      <th>free sulfur dioxide</th>\n",
       "      <th>total sulfur dioxide</th>\n",
       "      <th>density</th>\n",
       "      <th>pH</th>\n",
       "      <th>sulphates</th>\n",
       "      <th>alcohol</th>\n",
       "      <th>quality</th>\n",
       "    </tr>\n",
       "  </thead>\n",
       "  <tbody>\n",
       "    <tr>\n",
       "      <th>0</th>\n",
       "      <td>7.4</td>\n",
       "      <td>0.70</td>\n",
       "      <td>0.00</td>\n",
       "      <td>1.9</td>\n",
       "      <td>0.076</td>\n",
       "      <td>11.0</td>\n",
       "      <td>34.0</td>\n",
       "      <td>0.9978</td>\n",
       "      <td>3.51</td>\n",
       "      <td>0.56</td>\n",
       "      <td>9.4</td>\n",
       "      <td>5</td>\n",
       "    </tr>\n",
       "    <tr>\n",
       "      <th>1</th>\n",
       "      <td>7.8</td>\n",
       "      <td>0.88</td>\n",
       "      <td>0.00</td>\n",
       "      <td>2.6</td>\n",
       "      <td>0.098</td>\n",
       "      <td>25.0</td>\n",
       "      <td>67.0</td>\n",
       "      <td>0.9968</td>\n",
       "      <td>3.20</td>\n",
       "      <td>0.68</td>\n",
       "      <td>9.8</td>\n",
       "      <td>5</td>\n",
       "    </tr>\n",
       "    <tr>\n",
       "      <th>2</th>\n",
       "      <td>7.8</td>\n",
       "      <td>0.76</td>\n",
       "      <td>0.04</td>\n",
       "      <td>2.3</td>\n",
       "      <td>0.092</td>\n",
       "      <td>15.0</td>\n",
       "      <td>54.0</td>\n",
       "      <td>0.9970</td>\n",
       "      <td>3.26</td>\n",
       "      <td>0.65</td>\n",
       "      <td>9.8</td>\n",
       "      <td>5</td>\n",
       "    </tr>\n",
       "    <tr>\n",
       "      <th>3</th>\n",
       "      <td>11.2</td>\n",
       "      <td>0.28</td>\n",
       "      <td>0.56</td>\n",
       "      <td>1.9</td>\n",
       "      <td>0.075</td>\n",
       "      <td>17.0</td>\n",
       "      <td>60.0</td>\n",
       "      <td>0.9980</td>\n",
       "      <td>3.16</td>\n",
       "      <td>0.58</td>\n",
       "      <td>9.8</td>\n",
       "      <td>6</td>\n",
       "    </tr>\n",
       "    <tr>\n",
       "      <th>4</th>\n",
       "      <td>7.4</td>\n",
       "      <td>0.70</td>\n",
       "      <td>0.00</td>\n",
       "      <td>1.9</td>\n",
       "      <td>0.076</td>\n",
       "      <td>11.0</td>\n",
       "      <td>34.0</td>\n",
       "      <td>0.9978</td>\n",
       "      <td>3.51</td>\n",
       "      <td>0.56</td>\n",
       "      <td>9.4</td>\n",
       "      <td>5</td>\n",
       "    </tr>\n",
       "  </tbody>\n",
       "</table>\n",
       "</div>"
      ],
      "text/plain": [
       "   fixed acidity  volatile acidity  citric acid  residual sugar  chlorides  \\\n",
       "0            7.4              0.70         0.00             1.9      0.076   \n",
       "1            7.8              0.88         0.00             2.6      0.098   \n",
       "2            7.8              0.76         0.04             2.3      0.092   \n",
       "3           11.2              0.28         0.56             1.9      0.075   \n",
       "4            7.4              0.70         0.00             1.9      0.076   \n",
       "\n",
       "   free sulfur dioxide  total sulfur dioxide  density    pH  sulphates  \\\n",
       "0                 11.0                  34.0   0.9978  3.51       0.56   \n",
       "1                 25.0                  67.0   0.9968  3.20       0.68   \n",
       "2                 15.0                  54.0   0.9970  3.26       0.65   \n",
       "3                 17.0                  60.0   0.9980  3.16       0.58   \n",
       "4                 11.0                  34.0   0.9978  3.51       0.56   \n",
       "\n",
       "   alcohol  quality  \n",
       "0      9.4        5  \n",
       "1      9.8        5  \n",
       "2      9.8        5  \n",
       "3      9.8        6  \n",
       "4      9.4        5  "
      ]
     },
     "execution_count": 6,
     "metadata": {},
     "output_type": "execute_result"
    }
   ],
   "source": [
    "dataframe = pd.read_csv('winequality_dataset.csv')\n",
    "dataframe.head()"
   ]
  },
  {
   "cell_type": "code",
   "execution_count": 7,
   "id": "e6a0bb4a",
   "metadata": {},
   "outputs": [
    {
     "data": {
      "text/plain": [
       "Index(['fixed acidity', 'volatile acidity', 'citric acid', 'residual sugar',\n",
       "       'chlorides', 'free sulfur dioxide', 'total sulfur dioxide', 'density',\n",
       "       'pH', 'sulphates', 'alcohol', 'quality'],\n",
       "      dtype='object')"
      ]
     },
     "execution_count": 7,
     "metadata": {},
     "output_type": "execute_result"
    }
   ],
   "source": [
    "dataframe.keys()"
   ]
  },
  {
   "cell_type": "code",
   "execution_count": 8,
   "id": "e0549c01",
   "metadata": {},
   "outputs": [
    {
     "name": "stdout",
     "output_type": "stream",
     "text": [
      "<class 'pandas.core.frame.DataFrame'>\n",
      "RangeIndex: 1599 entries, 0 to 1598\n",
      "Data columns (total 12 columns):\n",
      " #   Column                Non-Null Count  Dtype  \n",
      "---  ------                --------------  -----  \n",
      " 0   fixed acidity         1599 non-null   float64\n",
      " 1   volatile acidity      1599 non-null   float64\n",
      " 2   citric acid           1599 non-null   float64\n",
      " 3   residual sugar        1599 non-null   float64\n",
      " 4   chlorides             1599 non-null   float64\n",
      " 5   free sulfur dioxide   1599 non-null   float64\n",
      " 6   total sulfur dioxide  1599 non-null   float64\n",
      " 7   density               1599 non-null   float64\n",
      " 8   pH                    1599 non-null   float64\n",
      " 9   sulphates             1599 non-null   float64\n",
      " 10  alcohol               1599 non-null   float64\n",
      " 11  quality               1599 non-null   int64  \n",
      "dtypes: float64(11), int64(1)\n",
      "memory usage: 150.0 KB\n"
     ]
    }
   ],
   "source": [
    "dataframe.info()"
   ]
  },
  {
   "cell_type": "code",
   "execution_count": 9,
   "id": "9bb1a850",
   "metadata": {},
   "outputs": [
    {
     "name": "stdout",
     "output_type": "stream",
     "text": [
      "1599\n"
     ]
    }
   ],
   "source": [
    "num_rows = len(dataframe)\n",
    "print(num_rows)"
   ]
  },
  {
   "cell_type": "code",
   "execution_count": 10,
   "id": "54e1b53c",
   "metadata": {},
   "outputs": [
    {
     "name": "stdout",
     "output_type": "stream",
     "text": [
      "12\n"
     ]
    }
   ],
   "source": [
    "num_cols = len(dataframe.columns)\n",
    "print(num_cols)"
   ]
  },
  {
   "cell_type": "code",
   "execution_count": 11,
   "id": "427a2b34",
   "metadata": {},
   "outputs": [],
   "source": [
    "input_cols = ['fixed acidity', 'volatile acidity', 'citric acid', 'residual sugar',\n",
    "       'chlorides', 'free sulfur dioxide', 'total sulfur dioxide', 'density',\n",
    "       'pH', 'sulphates', 'alcohol']\n",
    "output_cols = ['quality']\n"
   ]
  },
  {
   "cell_type": "code",
   "execution_count": 12,
   "id": "88ad4a33",
   "metadata": {},
   "outputs": [
    {
     "data": {
      "text/plain": [
       "array([[ 7.4  ,  0.7  ,  0.   , ...,  3.51 ,  0.56 ,  9.4  ],\n",
       "       [ 7.8  ,  0.88 ,  0.   , ...,  3.2  ,  0.68 ,  9.8  ],\n",
       "       [ 7.8  ,  0.76 ,  0.04 , ...,  3.26 ,  0.65 ,  9.8  ],\n",
       "       ...,\n",
       "       [ 6.3  ,  0.51 ,  0.13 , ...,  3.42 ,  0.75 , 11.   ],\n",
       "       [ 5.9  ,  0.645,  0.12 , ...,  3.57 ,  0.71 , 10.2  ],\n",
       "       [ 6.   ,  0.31 ,  0.47 , ...,  3.39 ,  0.66 , 11.   ]])"
      ]
     },
     "execution_count": 12,
     "metadata": {},
     "output_type": "execute_result"
    }
   ],
   "source": [
    "inputs_array = dataframe[input_cols].values\n",
    "inputs_array"
   ]
  },
  {
   "cell_type": "code",
   "execution_count": 13,
   "id": "0d764d1a",
   "metadata": {},
   "outputs": [
    {
     "data": {
      "text/plain": [
       "array([[5],\n",
       "       [5],\n",
       "       [5],\n",
       "       ...,\n",
       "       [6],\n",
       "       [5],\n",
       "       [6]], dtype=int64)"
      ]
     },
     "execution_count": 13,
     "metadata": {},
     "output_type": "execute_result"
    }
   ],
   "source": [
    "targets_array = dataframe[output_cols].values\n",
    "targets_array"
   ]
  },
  {
   "cell_type": "code",
   "execution_count": 14,
   "id": "b10bddcf",
   "metadata": {},
   "outputs": [],
   "source": [
    "inputs = torch.tensor(inputs_array, dtype=torch.float32)\n",
    "targets = torch.tensor(targets_array, dtype=torch.float32)"
   ]
  },
  {
   "cell_type": "code",
   "execution_count": 20,
   "id": "ec76ee27",
   "metadata": {},
   "outputs": [
    {
     "data": {
      "text/plain": [
       "(torch.float32, torch.float32)"
      ]
     },
     "execution_count": 20,
     "metadata": {},
     "output_type": "execute_result"
    }
   ],
   "source": [
    "(torch.float32, torch.float32)"
   ]
  },
  {
   "cell_type": "code",
   "execution_count": 21,
   "id": "28537926",
   "metadata": {},
   "outputs": [
    {
     "data": {
      "text/plain": [
       "1599"
      ]
     },
     "execution_count": 21,
     "metadata": {},
     "output_type": "execute_result"
    }
   ],
   "source": [
    "dataset = TensorDataset(inputs, targets)\n",
    "len(dataset)"
   ]
  },
  {
   "cell_type": "code",
   "execution_count": 22,
   "id": "bba31efa",
   "metadata": {},
   "outputs": [],
   "source": [
    "val_percent =  0.15 # between 0.1 and 0.2\n",
    "val_size = int(num_rows * val_percent)\n",
    "train_size = num_rows - val_size\n",
    "\n",
    "train_ds, val_ds =  random_split(dataset, [train_size, val_size]) # Use the random_split function to split dataset into 2 parts of the desired length"
   ]
  },
  {
   "cell_type": "code",
   "execution_count": 23,
   "id": "45f83fca",
   "metadata": {},
   "outputs": [],
   "source": [
    "#determine the batch size... this could be anything \n",
    "batch_size = 101"
   ]
  },
  {
   "cell_type": "code",
   "execution_count": 24,
   "id": "2bc40251",
   "metadata": {},
   "outputs": [],
   "source": [
    "train_loader = DataLoader(train_ds, batch_size, shuffle=True)\n",
    "val_loader = DataLoader(val_ds, batch_size)"
   ]
  },
  {
   "cell_type": "code",
   "execution_count": 25,
   "id": "70adca90",
   "metadata": {},
   "outputs": [
    {
     "name": "stdout",
     "output_type": "stream",
     "text": [
      "inputs: tensor([[ 7.9000,  0.3000,  0.6800,  ...,  3.0100,  0.5100, 12.3000],\n",
      "        [ 7.2000,  0.5700,  0.0600,  ...,  3.3600,  0.7000,  9.6000],\n",
      "        [ 7.5000,  0.5100,  0.0200,  ...,  3.3600,  0.5400, 10.5000],\n",
      "        ...,\n",
      "        [ 7.4000,  0.4100,  0.2400,  ...,  3.3700,  0.6200, 10.4000],\n",
      "        [ 7.9000,  0.5450,  0.0600,  ...,  3.3600,  0.6700, 10.7000],\n",
      "        [ 6.0000,  0.5000,  0.0000,  ...,  3.3600,  0.4500,  9.5000]])\n",
      "targets: tensor([[7.],\n",
      "        [6.],\n",
      "        [6.],\n",
      "        [5.],\n",
      "        [5.],\n",
      "        [5.],\n",
      "        [4.],\n",
      "        [5.],\n",
      "        [6.],\n",
      "        [6.],\n",
      "        [6.],\n",
      "        [5.],\n",
      "        [5.],\n",
      "        [5.],\n",
      "        [8.],\n",
      "        [6.],\n",
      "        [5.],\n",
      "        [5.],\n",
      "        [5.],\n",
      "        [5.],\n",
      "        [7.],\n",
      "        [5.],\n",
      "        [5.],\n",
      "        [5.],\n",
      "        [3.],\n",
      "        [6.],\n",
      "        [6.],\n",
      "        [6.],\n",
      "        [5.],\n",
      "        [6.],\n",
      "        [6.],\n",
      "        [6.],\n",
      "        [6.],\n",
      "        [5.],\n",
      "        [5.],\n",
      "        [7.],\n",
      "        [5.],\n",
      "        [6.],\n",
      "        [6.],\n",
      "        [4.],\n",
      "        [7.],\n",
      "        [4.],\n",
      "        [5.],\n",
      "        [8.],\n",
      "        [4.],\n",
      "        [5.],\n",
      "        [5.],\n",
      "        [5.],\n",
      "        [7.],\n",
      "        [6.],\n",
      "        [6.],\n",
      "        [6.],\n",
      "        [5.],\n",
      "        [5.],\n",
      "        [5.],\n",
      "        [5.],\n",
      "        [7.],\n",
      "        [5.],\n",
      "        [6.],\n",
      "        [6.],\n",
      "        [6.],\n",
      "        [5.],\n",
      "        [5.],\n",
      "        [7.],\n",
      "        [5.],\n",
      "        [6.],\n",
      "        [6.],\n",
      "        [7.],\n",
      "        [7.],\n",
      "        [5.],\n",
      "        [6.],\n",
      "        [8.],\n",
      "        [6.],\n",
      "        [6.],\n",
      "        [5.],\n",
      "        [5.],\n",
      "        [5.],\n",
      "        [5.],\n",
      "        [6.],\n",
      "        [7.],\n",
      "        [6.],\n",
      "        [7.],\n",
      "        [7.],\n",
      "        [5.],\n",
      "        [6.],\n",
      "        [6.],\n",
      "        [6.],\n",
      "        [5.],\n",
      "        [6.],\n",
      "        [6.],\n",
      "        [5.],\n",
      "        [6.],\n",
      "        [7.],\n",
      "        [7.],\n",
      "        [6.],\n",
      "        [5.],\n",
      "        [7.],\n",
      "        [5.],\n",
      "        [5.],\n",
      "        [6.],\n",
      "        [5.]])\n"
     ]
    }
   ],
   "source": [
    "\n",
    "for xb, yb in train_loader:\n",
    "    print(\"inputs:\", xb)\n",
    "    print(\"targets:\", yb)\n",
    "    break"
   ]
  },
  {
   "cell_type": "code",
   "execution_count": 26,
   "id": "a9169b31",
   "metadata": {},
   "outputs": [],
   "source": [
    "input_size = len(input_cols)\n",
    "output_size = len(output_cols)"
   ]
  },
  {
   "cell_type": "code",
   "execution_count": 27,
   "id": "3e012e20",
   "metadata": {},
   "outputs": [],
   "source": [
    "class WineModel(nn.Module):\n",
    "    def __init__(self):\n",
    "        super().__init__()     \n",
    "        self.linear = nn.Linear(input_size, output_size) \n",
    "        \n",
    "    def forward(self, xb):\n",
    "        out = self.linear(xb)             \n",
    "        return out\n",
    "    \n",
    "    def training_step(self, batch):\n",
    "        inputs, targets = batch \n",
    "        # Generate predictions\n",
    "        out = self(inputs)         \n",
    "        # Calcuate loss\n",
    "        loss = F.l1_loss(out, targets) \n",
    "        return loss\n",
    "    \n",
    "    def validation_step(self, batch):\n",
    "        inputs, targets = batch\n",
    "        # Generate predictions\n",
    "        out = self(inputs)\n",
    "        # Calculate loss\n",
    "        loss =F.l1_loss(out, targets)       \n",
    "        return {'val_loss': loss.detach()}\n",
    "        \n",
    "    def validation_epoch_end(self, outputs):\n",
    "        batch_losses = [x['val_loss'] for x in outputs]\n",
    "        epoch_loss = torch.stack(batch_losses).mean()  \n",
    "        return {'val_loss': epoch_loss.item()}\n",
    "    \n",
    "    def epoch_end(self, epoch, result, num_epochs):\n",
    "        # Print result every 20th epoch\n",
    "        if (epoch+1) % 20 == 0 or epoch == num_epochs-1:\n",
    "            print(\"Epoch [{}], val_loss: {:.4f}\".format(epoch+1, result['val_loss']))"
   ]
  },
  {
   "cell_type": "code",
   "execution_count": 28,
   "id": "781c979f",
   "metadata": {},
   "outputs": [],
   "source": [
    "model = WineModel()"
   ]
  },
  {
   "cell_type": "code",
   "execution_count": 29,
   "id": "239c3516",
   "metadata": {},
   "outputs": [
    {
     "data": {
      "text/plain": [
       "[Parameter containing:\n",
       " tensor([[-0.2776, -0.1278, -0.0376,  0.1392,  0.0916, -0.1870, -0.2649,  0.2526,\n",
       "           0.0468,  0.2073, -0.2060]], requires_grad=True),\n",
       " Parameter containing:\n",
       " tensor([-0.0609], requires_grad=True)]"
      ]
     },
     "execution_count": 29,
     "metadata": {},
     "output_type": "execute_result"
    }
   ],
   "source": [
    "list(model.parameters())"
   ]
  },
  {
   "cell_type": "code",
   "execution_count": 30,
   "id": "5b6a4590",
   "metadata": {},
   "outputs": [],
   "source": [
    "def evaluate(model, val_loader):\n",
    "    outputs = [model.validation_step(batch) for batch in val_loader]\n",
    "    return model.validation_epoch_end(outputs)\n",
    "\n",
    "def fit(epochs, lr, model, train_loader, val_loader, opt_func=torch.optim.SGD):\n",
    "    history = []\n",
    "    optimizer = opt_func(model.parameters(), lr)\n",
    "    for epoch in range(epochs):\n",
    "        # Training Phase \n",
    "        for batch in train_loader:\n",
    "            loss = model.training_step(batch)\n",
    "            loss.backward()\n",
    "            optimizer.step()\n",
    "            optimizer.zero_grad()\n",
    "        # Validation phase\n",
    "        result = evaluate(model, val_loader)\n",
    "        model.epoch_end(epoch, result, epochs)\n",
    "        history.append(result)\n",
    "    return history"
   ]
  },
  {
   "cell_type": "code",
   "execution_count": 31,
   "id": "7a0c8dcf",
   "metadata": {},
   "outputs": [
    {
     "name": "stdout",
     "output_type": "stream",
     "text": [
      "{'val_loss': 24.682586669921875}\n"
     ]
    }
   ],
   "source": [
    "result = evaluate(model, val_loader) # Use the the evaluate function\n",
    "print(result)"
   ]
  },
  {
   "cell_type": "code",
   "execution_count": 32,
   "id": "58369c8f",
   "metadata": {},
   "outputs": [
    {
     "name": "stdout",
     "output_type": "stream",
     "text": [
      "Epoch [20], val_loss: 9.4470\n",
      "Epoch [40], val_loss: 20.0105\n",
      "Epoch [60], val_loss: 6.3153\n",
      "Epoch [80], val_loss: 4.1695\n",
      "Epoch [100], val_loss: 9.1973\n",
      "Epoch [120], val_loss: 6.9296\n",
      "Epoch [140], val_loss: 17.4282\n",
      "Epoch [160], val_loss: 12.7103\n",
      "Epoch [180], val_loss: 14.9693\n",
      "Epoch [200], val_loss: 17.4036\n",
      "Epoch [220], val_loss: 16.6008\n",
      "Epoch [240], val_loss: 13.8227\n",
      "Epoch [260], val_loss: 13.3405\n",
      "Epoch [280], val_loss: 20.9701\n",
      "Epoch [300], val_loss: 10.1019\n",
      "Epoch [320], val_loss: 14.8610\n",
      "Epoch [340], val_loss: 2.1197\n",
      "Epoch [360], val_loss: 8.1746\n",
      "Epoch [380], val_loss: 10.5544\n",
      "Epoch [400], val_loss: 11.9997\n",
      "Epoch [420], val_loss: 23.0886\n",
      "Epoch [440], val_loss: 8.8481\n",
      "Epoch [460], val_loss: 15.7275\n",
      "Epoch [480], val_loss: 13.0950\n",
      "Epoch [500], val_loss: 9.6784\n",
      "Epoch [520], val_loss: 11.6152\n",
      "Epoch [540], val_loss: 22.0167\n",
      "Epoch [560], val_loss: 28.8203\n",
      "Epoch [580], val_loss: 17.1739\n",
      "Epoch [600], val_loss: 24.3987\n",
      "Epoch [620], val_loss: 23.8898\n",
      "Epoch [640], val_loss: 1.8040\n",
      "Epoch [660], val_loss: 8.9150\n",
      "Epoch [680], val_loss: 1.1267\n",
      "Epoch [700], val_loss: 14.9972\n",
      "Epoch [720], val_loss: 10.8532\n",
      "Epoch [740], val_loss: 6.9050\n",
      "Epoch [760], val_loss: 6.2232\n",
      "Epoch [780], val_loss: 6.9612\n",
      "Epoch [800], val_loss: 18.3760\n",
      "Epoch [820], val_loss: 9.7460\n",
      "Epoch [840], val_loss: 21.8719\n",
      "Epoch [860], val_loss: 15.0217\n",
      "Epoch [880], val_loss: 16.2593\n",
      "Epoch [900], val_loss: 19.4707\n",
      "Epoch [920], val_loss: 19.8175\n",
      "Epoch [940], val_loss: 8.0241\n",
      "Epoch [960], val_loss: 16.8980\n",
      "Epoch [980], val_loss: 20.0199\n",
      "Epoch [1000], val_loss: 1.2959\n"
     ]
    }
   ],
   "source": [
    "epochs = 1000\n",
    "lr = 1e-2\n",
    "history2 = fit(epochs, lr, model, train_loader, val_loader)"
   ]
  },
  {
   "cell_type": "code",
   "execution_count": 33,
   "id": "28327b4b",
   "metadata": {},
   "outputs": [
    {
     "name": "stdout",
     "output_type": "stream",
     "text": [
      "Epoch [20], val_loss: 8.6088\n",
      "Epoch [40], val_loss: 19.5366\n",
      "Epoch [60], val_loss: 4.1631\n",
      "Epoch [80], val_loss: 9.8150\n",
      "Epoch [100], val_loss: 1.4907\n"
     ]
    }
   ],
   "source": [
    "epochs = 100\n",
    "lr = 1e-2\n",
    "history2 = fit(epochs, lr, model, train_loader, val_loader)"
   ]
  },
  {
   "cell_type": "code",
   "execution_count": 34,
   "id": "9393d2e8",
   "metadata": {},
   "outputs": [
    {
     "name": "stdout",
     "output_type": "stream",
     "text": [
      "Epoch [20], val_loss: 0.5313\n",
      "Epoch [40], val_loss: 0.5234\n",
      "Epoch [60], val_loss: 0.5026\n",
      "Epoch [80], val_loss: 0.5051\n",
      "Epoch [100], val_loss: 0.5199\n",
      "Epoch [120], val_loss: 0.5236\n",
      "Epoch [140], val_loss: 0.5154\n",
      "Epoch [160], val_loss: 0.5077\n",
      "Epoch [180], val_loss: 0.5019\n",
      "Epoch [200], val_loss: 0.5021\n",
      "Epoch [220], val_loss: 0.5022\n",
      "Epoch [240], val_loss: 0.5048\n",
      "Epoch [260], val_loss: 0.5092\n",
      "Epoch [280], val_loss: 0.5015\n",
      "Epoch [300], val_loss: 0.5023\n",
      "Epoch [320], val_loss: 0.5019\n",
      "Epoch [340], val_loss: 0.5041\n",
      "Epoch [360], val_loss: 0.5101\n",
      "Epoch [380], val_loss: 0.5072\n",
      "Epoch [400], val_loss: 0.5149\n",
      "Epoch [420], val_loss: 0.5217\n",
      "Epoch [440], val_loss: 0.5251\n",
      "Epoch [460], val_loss: 0.5033\n",
      "Epoch [480], val_loss: 0.5033\n",
      "Epoch [500], val_loss: 0.5172\n",
      "Epoch [520], val_loss: 0.5054\n",
      "Epoch [540], val_loss: 0.5057\n",
      "Epoch [560], val_loss: 0.5246\n",
      "Epoch [580], val_loss: 0.5003\n",
      "Epoch [600], val_loss: 0.5152\n",
      "Epoch [620], val_loss: 0.5006\n",
      "Epoch [640], val_loss: 0.5007\n",
      "Epoch [660], val_loss: 0.5001\n",
      "Epoch [680], val_loss: 0.5001\n",
      "Epoch [700], val_loss: 0.5021\n",
      "Epoch [720], val_loss: 0.5009\n",
      "Epoch [740], val_loss: 0.5068\n",
      "Epoch [760], val_loss: 0.5025\n",
      "Epoch [780], val_loss: 0.5080\n",
      "Epoch [800], val_loss: 0.5018\n",
      "Epoch [820], val_loss: 0.5003\n",
      "Epoch [840], val_loss: 0.4999\n",
      "Epoch [860], val_loss: 0.5004\n",
      "Epoch [880], val_loss: 0.5018\n",
      "Epoch [900], val_loss: 0.5015\n",
      "Epoch [920], val_loss: 0.5226\n",
      "Epoch [940], val_loss: 0.5167\n",
      "Epoch [960], val_loss: 0.5009\n",
      "Epoch [980], val_loss: 0.5163\n",
      "Epoch [1000], val_loss: 0.5250\n"
     ]
    }
   ],
   "source": [
    "epochs = 1000\n",
    "lr = 1e-4\n",
    "history3 = fit(epochs, lr, model, train_loader, val_loader)"
   ]
  },
  {
   "cell_type": "code",
   "execution_count": 35,
   "id": "6498a35c",
   "metadata": {},
   "outputs": [
    {
     "name": "stdout",
     "output_type": "stream",
     "text": [
      "Epoch [20], val_loss: 0.5014\n",
      "Epoch [40], val_loss: 0.5005\n",
      "Epoch [60], val_loss: 0.4999\n",
      "Epoch [80], val_loss: 0.5000\n",
      "Epoch [100], val_loss: 0.5006\n",
      "Epoch [120], val_loss: 0.5000\n",
      "Epoch [140], val_loss: 0.4996\n",
      "Epoch [160], val_loss: 0.5006\n",
      "Epoch [180], val_loss: 0.5001\n",
      "Epoch [200], val_loss: 0.5000\n",
      "Epoch [220], val_loss: 0.5007\n",
      "Epoch [240], val_loss: 0.5001\n",
      "Epoch [260], val_loss: 0.5006\n",
      "Epoch [280], val_loss: 0.4997\n",
      "Epoch [300], val_loss: 0.5008\n",
      "Epoch [320], val_loss: 0.5004\n",
      "Epoch [340], val_loss: 0.4998\n",
      "Epoch [360], val_loss: 0.4998\n",
      "Epoch [380], val_loss: 0.5009\n",
      "Epoch [400], val_loss: 0.5003\n",
      "Epoch [420], val_loss: 0.5004\n",
      "Epoch [440], val_loss: 0.4999\n",
      "Epoch [460], val_loss: 0.5000\n",
      "Epoch [480], val_loss: 0.4995\n",
      "Epoch [500], val_loss: 0.4999\n",
      "Epoch [520], val_loss: 0.4997\n",
      "Epoch [540], val_loss: 0.4995\n",
      "Epoch [560], val_loss: 0.5006\n",
      "Epoch [580], val_loss: 0.4998\n",
      "Epoch [600], val_loss: 0.5000\n",
      "Epoch [620], val_loss: 0.4998\n",
      "Epoch [640], val_loss: 0.5007\n",
      "Epoch [660], val_loss: 0.5000\n",
      "Epoch [680], val_loss: 0.4998\n",
      "Epoch [700], val_loss: 0.4998\n",
      "Epoch [720], val_loss: 0.4997\n",
      "Epoch [740], val_loss: 0.4997\n",
      "Epoch [760], val_loss: 0.5004\n",
      "Epoch [780], val_loss: 0.4995\n",
      "Epoch [800], val_loss: 0.4998\n",
      "Epoch [820], val_loss: 0.5003\n",
      "Epoch [840], val_loss: 0.5013\n",
      "Epoch [860], val_loss: 0.5001\n",
      "Epoch [880], val_loss: 0.5011\n",
      "Epoch [900], val_loss: 0.4999\n",
      "Epoch [920], val_loss: 0.4997\n",
      "Epoch [940], val_loss: 0.4998\n",
      "Epoch [960], val_loss: 0.4998\n",
      "Epoch [980], val_loss: 0.4993\n",
      "Epoch [1000], val_loss: 0.5002\n"
     ]
    }
   ],
   "source": [
    "epochs = 1000\n",
    "lr = 1e-5\n",
    "history3 = fit(epochs, lr, model, train_loader, val_loader)"
   ]
  },
  {
   "cell_type": "code",
   "execution_count": 36,
   "id": "3867829b",
   "metadata": {},
   "outputs": [
    {
     "name": "stdout",
     "output_type": "stream",
     "text": [
      "Epoch [20], val_loss: 0.5000\n",
      "Epoch [40], val_loss: 0.4998\n",
      "Epoch [60], val_loss: 0.4998\n",
      "Epoch [80], val_loss: 0.4999\n",
      "Epoch [100], val_loss: 0.5000\n",
      "Epoch [120], val_loss: 0.4999\n",
      "Epoch [140], val_loss: 0.4999\n",
      "Epoch [160], val_loss: 0.4998\n",
      "Epoch [180], val_loss: 0.4998\n",
      "Epoch [200], val_loss: 0.4998\n",
      "Epoch [220], val_loss: 0.4998\n",
      "Epoch [240], val_loss: 0.4999\n",
      "Epoch [260], val_loss: 0.4998\n",
      "Epoch [280], val_loss: 0.4999\n",
      "Epoch [300], val_loss: 0.5000\n",
      "Epoch [320], val_loss: 0.4998\n",
      "Epoch [340], val_loss: 0.4998\n",
      "Epoch [360], val_loss: 0.4999\n",
      "Epoch [380], val_loss: 0.4999\n",
      "Epoch [400], val_loss: 0.4998\n",
      "Epoch [420], val_loss: 0.4998\n",
      "Epoch [440], val_loss: 0.4998\n",
      "Epoch [460], val_loss: 0.4998\n",
      "Epoch [480], val_loss: 0.4998\n",
      "Epoch [500], val_loss: 0.4998\n",
      "Epoch [520], val_loss: 0.4999\n",
      "Epoch [540], val_loss: 0.4998\n",
      "Epoch [560], val_loss: 0.4998\n",
      "Epoch [580], val_loss: 0.4998\n",
      "Epoch [600], val_loss: 0.4998\n",
      "Epoch [620], val_loss: 0.4998\n",
      "Epoch [640], val_loss: 0.4997\n",
      "Epoch [660], val_loss: 0.4997\n",
      "Epoch [680], val_loss: 0.4997\n",
      "Epoch [700], val_loss: 0.4998\n",
      "Epoch [720], val_loss: 0.4998\n",
      "Epoch [740], val_loss: 0.4998\n",
      "Epoch [760], val_loss: 0.4998\n",
      "Epoch [780], val_loss: 0.4998\n",
      "Epoch [800], val_loss: 0.4998\n",
      "Epoch [820], val_loss: 0.4997\n",
      "Epoch [840], val_loss: 0.4999\n",
      "Epoch [860], val_loss: 0.4999\n",
      "Epoch [880], val_loss: 0.4999\n",
      "Epoch [900], val_loss: 0.4998\n",
      "Epoch [920], val_loss: 0.4998\n",
      "Epoch [940], val_loss: 0.4997\n",
      "Epoch [960], val_loss: 0.4998\n",
      "Epoch [980], val_loss: 0.4998\n",
      "Epoch [1000], val_loss: 0.4997\n"
     ]
    }
   ],
   "source": [
    "epochs = 1000\n",
    "lr = 1e-6\n",
    "history3 = fit(epochs, lr, model, train_loader, val_loader)"
   ]
  },
  {
   "cell_type": "code",
   "execution_count": 37,
   "id": "3da1bd25",
   "metadata": {},
   "outputs": [
    {
     "data": {
      "text/plain": [
       "{'val_loss': 0.4997105598449707}"
      ]
     },
     "execution_count": 37,
     "metadata": {},
     "output_type": "execute_result"
    }
   ],
   "source": [
    "val_loss = evaluate(model, val_loader) \n",
    "val_loss"
   ]
  },
  {
   "cell_type": "code",
   "execution_count": 38,
   "id": "495000a4",
   "metadata": {},
   "outputs": [],
   "source": [
    "def predict_single(input, target, model):\n",
    "    inputs = input.unsqueeze(0)\n",
    "    predictions = model(inputs)                \n",
    "    prediction = predictions[0].detach()\n",
    "    print(\"Input:\", input)\n",
    "    print(\"Target:\", target)\n",
    "    print(\"Prediction:\", prediction)"
   ]
  },
  {
   "cell_type": "code",
   "execution_count": 39,
   "id": "3209072d",
   "metadata": {},
   "outputs": [
    {
     "name": "stdout",
     "output_type": "stream",
     "text": [
      "Input: tensor([ 6.9000,  0.8400,  0.2100,  4.1000,  0.0740, 16.0000, 65.0000,  0.9984,\n",
      "         3.5300,  0.7200,  9.2500])\n",
      "Target: tensor([6.])\n",
      "Prediction: tensor([4.9518])\n"
     ]
    }
   ],
   "source": [
    "input, target = val_ds[0]\n",
    "predict_single(input, target, model)"
   ]
  },
  {
   "cell_type": "code",
   "execution_count": 40,
   "id": "08c3fe69",
   "metadata": {},
   "outputs": [
    {
     "name": "stdout",
     "output_type": "stream",
     "text": [
      "Input: tensor([ 6.6000,  0.6950,  0.0000,  2.1000,  0.0750, 12.0000, 56.0000,  0.9968,\n",
      "         3.4900,  0.6700,  9.2000])\n",
      "Target: tensor([5.])\n",
      "Prediction: tensor([4.8937])\n"
     ]
    }
   ],
   "source": [
    "input, target = val_ds[4]\n",
    "predict_single(input, target, model)"
   ]
  },
  {
   "cell_type": "code",
   "execution_count": 41,
   "id": "5bdae9a8",
   "metadata": {},
   "outputs": [
    {
     "name": "stdout",
     "output_type": "stream",
     "text": [
      "Input: tensor([ 7.1000,  0.4700,  0.0000,  2.2000,  0.0670,  7.0000, 14.0000,  0.9952,\n",
      "         3.4000,  0.5800, 10.9000])\n",
      "Target: tensor([4.])\n",
      "Prediction: tensor([5.7160])\n"
     ]
    }
   ],
   "source": [
    "input, target = val_ds[8]\n",
    "predict_single(input, target, model)"
   ]
  },
  {
   "cell_type": "code",
   "execution_count": null,
   "id": "664b92a1",
   "metadata": {},
   "outputs": [],
   "source": []
  }
 ],
 "metadata": {
  "kernelspec": {
   "display_name": "Python 3 (ipykernel)",
   "language": "python",
   "name": "python3"
  },
  "language_info": {
   "codemirror_mode": {
    "name": "ipython",
    "version": 3
   },
   "file_extension": ".py",
   "mimetype": "text/x-python",
   "name": "python",
   "nbconvert_exporter": "python",
   "pygments_lexer": "ipython3",
   "version": "3.9.7"
  }
 },
 "nbformat": 4,
 "nbformat_minor": 5
}
